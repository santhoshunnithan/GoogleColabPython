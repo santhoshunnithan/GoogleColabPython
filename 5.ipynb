{
  "nbformat": 4,
  "nbformat_minor": 0,
  "metadata": {
    "colab": {
      "provenance": [],
      "include_colab_link": true
    },
    "kernelspec": {
      "name": "python3",
      "display_name": "Python 3"
    },
    "language_info": {
      "name": "python"
    }
  },
  "cells": [
    {
      "cell_type": "markdown",
      "metadata": {
        "id": "view-in-github",
        "colab_type": "text"
      },
      "source": [
        "<a href=\"https://colab.research.google.com/github/santhoshunnithan/PythonColab/blob/main/5.ipynb\" target=\"_parent\"><img src=\"https://colab.research.google.com/assets/colab-badge.svg\" alt=\"Open In Colab\"/></a>"
      ]
    },
    {
      "cell_type": "code",
      "execution_count": null,
      "metadata": {
        "id": "EybszDmbTWvi"
      },
      "outputs": [],
      "source": [
        "#TO DO lists"
      ]
    },
    {
      "cell_type": "code",
      "source": [
        "daily_checklist = [\"finish report draft\",\"meditation\",\"read a new book\",\"shopping\",\"gym\"]\n",
        "completed_tasks=[]\n",
        "incomplete_tasks=[]\n",
        "for task in daily_checklist:\n",
        "  is_completed= input(f\"did you finish'{task}'?(y/n):\")\n",
        "  if is_completed =='y':\n",
        "    completed_tasks.append(task)\n",
        "    print(\"completed_tasks\")\n",
        "  else:\n",
        "    is_completed=='n'\n",
        "    incomplete_tasks.append(task)\n",
        "    print(\"incomplete_tasks\")\n",
        "\n",
        "if completed_tasks:\n",
        "  for task in completed_tasks:\n",
        "    print(f\"{task}\")\n",
        "else:\n",
        "  print(\"nothing completed today\")\n",
        "print(\"incomplete_tasks\")\n",
        "if incomplete_tasks:\n",
        "  for task in incomplete_tasks:\n",
        "    print(f\"{task}\")\n",
        "else:\n",
        "  print(\"nothing incomplete today\")"
      ],
      "metadata": {
        "colab": {
          "base_uri": "https://localhost:8080/"
        },
        "id": "qboDTvY0TttA",
        "outputId": "a4446ad4-763d-4c73-d889-0e880ea18f40"
      },
      "execution_count": null,
      "outputs": [
        {
          "output_type": "stream",
          "name": "stdout",
          "text": [
            "did you finish'finish report draft'?(y/n):y\n",
            "completed_tasks\n",
            "did you finish'meditation'?(y/n):y\n",
            "completed_tasks\n",
            "did you finish'read a new book'?(y/n):y\n",
            "completed_tasks\n",
            "did you finish'shopping'?(y/n):y\n",
            "completed_tasks\n",
            "did you finish'gym'?(y/n):y\n",
            "completed_tasks\n",
            "finish report draft\n",
            "meditation\n",
            "read a new book\n",
            "shopping\n",
            "gym\n",
            "incomplete_tasks\n",
            "nothing incomplete today\n"
          ]
        }
      ]
    },
    {
      "cell_type": "code",
      "source": [
        "#MODULES - code library"
      ],
      "metadata": {
        "id": "SP41FrMXWblD"
      },
      "execution_count": null,
      "outputs": []
    },
    {
      "cell_type": "code",
      "source": [
        "#math module\n",
        "import math as m\n",
        "m.sqrt(100)"
      ],
      "metadata": {
        "colab": {
          "base_uri": "https://localhost:8080/"
        },
        "id": "3MnYFTJyZblj",
        "outputId": "7f351c5a-d00e-4b96-f838-d42b844894b3"
      },
      "execution_count": null,
      "outputs": [
        {
          "output_type": "execute_result",
          "data": {
            "text/plain": [
              "10.0"
            ]
          },
          "metadata": {},
          "execution_count": 11
        }
      ]
    },
    {
      "cell_type": "code",
      "source": [
        "m.pi"
      ],
      "metadata": {
        "colab": {
          "base_uri": "https://localhost:8080/"
        },
        "id": "ZhDLnqkOZ0dL",
        "outputId": "7fe4e47a-fba0-4172-d914-b2dd4b566ebf"
      },
      "execution_count": null,
      "outputs": [
        {
          "output_type": "execute_result",
          "data": {
            "text/plain": [
              "3.141592653589793"
            ]
          },
          "metadata": {},
          "execution_count": 12
        }
      ]
    },
    {
      "cell_type": "code",
      "source": [
        "m.pow(2,8)"
      ],
      "metadata": {
        "colab": {
          "base_uri": "https://localhost:8080/"
        },
        "id": "Vay9OVFbZ2nU",
        "outputId": "d07b7b31-0059-436f-8535-3671f20497e8"
      },
      "execution_count": null,
      "outputs": [
        {
          "output_type": "execute_result",
          "data": {
            "text/plain": [
              "256.0"
            ]
          },
          "metadata": {},
          "execution_count": 15
        }
      ]
    },
    {
      "cell_type": "code",
      "source": [
        "m.factorial(5)"
      ],
      "metadata": {
        "colab": {
          "base_uri": "https://localhost:8080/"
        },
        "id": "qK-B2nB5Z6Bb",
        "outputId": "1cc4612d-8f09-4d11-f03c-82ade63437eb"
      },
      "execution_count": null,
      "outputs": [
        {
          "output_type": "execute_result",
          "data": {
            "text/plain": [
              "120"
            ]
          },
          "metadata": {},
          "execution_count": 17
        }
      ]
    },
    {
      "cell_type": "code",
      "source": [
        "#RANDOM MODULE\n",
        "import random as r\n",
        "r.randint(1000,2000)"
      ],
      "metadata": {
        "colab": {
          "base_uri": "https://localhost:8080/"
        },
        "id": "TOfr3FNCaDrw",
        "outputId": "c2e0693f-d9d3-4c16-b732-1cd1f96e7675"
      },
      "execution_count": null,
      "outputs": [
        {
          "output_type": "execute_result",
          "data": {
            "text/plain": [
              "1543"
            ]
          },
          "metadata": {},
          "execution_count": 19
        }
      ]
    },
    {
      "cell_type": "code",
      "source": [
        "list =[\"blue\",\"black\",\"yellow\"]\n",
        "r.choice(list)"
      ],
      "metadata": {
        "colab": {
          "base_uri": "https://localhost:8080/",
          "height": 35
        },
        "id": "F50iBXoSaZZ1",
        "outputId": "a3c8dadf-30e3-4e7e-9a80-2cd80f5594b2"
      },
      "execution_count": null,
      "outputs": [
        {
          "output_type": "execute_result",
          "data": {
            "text/plain": [
              "'yellow'"
            ],
            "application/vnd.google.colaboratory.intrinsic+json": {
              "type": "string"
            }
          },
          "metadata": {},
          "execution_count": 20
        }
      ]
    },
    {
      "cell_type": "code",
      "source": [
        "ls1 = [\"c1\",\"c2\",\"c3\",\"c4\"]\n",
        "r.shuffle(ls1)\n",
        "print (ls1)"
      ],
      "metadata": {
        "colab": {
          "base_uri": "https://localhost:8080/"
        },
        "id": "HeqM3yNZaroN",
        "outputId": "d0a583b3-89b9-4bf8-b17d-b0d3e9edbd2d"
      },
      "execution_count": null,
      "outputs": [
        {
          "output_type": "stream",
          "name": "stdout",
          "text": [
            "['c4', 'c1', 'c3', 'c2']\n"
          ]
        }
      ]
    },
    {
      "cell_type": "code",
      "source": [
        "#DATE TIME MODULE\n",
        "import datetime as dt\n",
        "curr_date = dt.datetime.now()\n",
        "print(curr_date)"
      ],
      "metadata": {
        "colab": {
          "base_uri": "https://localhost:8080/"
        },
        "id": "41a3_wx7a78o",
        "outputId": "7d8b8854-5d13-4ff0-a111-a4f76ad9316a"
      },
      "execution_count": null,
      "outputs": [
        {
          "output_type": "stream",
          "name": "stdout",
          "text": [
            "2025-10-15 15:13:19.664543\n"
          ]
        }
      ]
    },
    {
      "cell_type": "code",
      "source": [
        "curr_date.year"
      ],
      "metadata": {
        "colab": {
          "base_uri": "https://localhost:8080/"
        },
        "id": "10YTpJZwbnWU",
        "outputId": "9f2c72ec-00dc-40e2-b4c2-63ed063ddbd0"
      },
      "execution_count": null,
      "outputs": [
        {
          "output_type": "execute_result",
          "data": {
            "text/plain": [
              "2025"
            ]
          },
          "metadata": {},
          "execution_count": 27
        }
      ]
    },
    {
      "cell_type": "code",
      "source": [
        "from datetime import timedelta\n",
        "import datetime\n",
        "current_date = datetime.datetime.now()\n",
        "var= current_date + timedelta(hours = 5)\n",
        "print(var)"
      ],
      "metadata": {
        "colab": {
          "base_uri": "https://localhost:8080/"
        },
        "id": "Qfiq4ttFb1kc",
        "outputId": "97febede-ce8a-4243-d4e1-6164193dfe77"
      },
      "execution_count": null,
      "outputs": [
        {
          "output_type": "stream",
          "name": "stdout",
          "text": [
            "2025-10-15 20:47:42.331449\n"
          ]
        }
      ]
    },
    {
      "cell_type": "code",
      "source": [],
      "metadata": {
        "id": "PKbcdv8EgwXS"
      },
      "execution_count": null,
      "outputs": []
    }
  ]
}
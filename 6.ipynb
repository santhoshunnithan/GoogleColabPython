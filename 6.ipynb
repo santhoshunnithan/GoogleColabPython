{
  "cells": [
    {
      "cell_type": "markdown",
      "metadata": {
        "id": "view-in-github",
        "colab_type": "text"
      },
      "source": [
        "<a href=\"https://colab.research.google.com/github/santhoshunnithan/PythonColab/blob/main/6.ipynb\" target=\"_parent\"><img src=\"https://colab.research.google.com/assets/colab-badge.svg\" alt=\"Open In Colab\"/></a>"
      ]
    },
    {
      "cell_type": "code",
      "execution_count": null,
      "metadata": {
        "colab": {
          "background_save": true,
          "base_uri": "https://localhost:8080/"
        },
        "id": "htrarsqTeHwS",
        "outputId": "296acb85-ca45-48b1-fed6-4c5c4e925d4c"
      },
      "outputs": [
        {
          "name": "stdout",
          "output_type": "stream",
          "text": [
            "select operation\n",
            "1.add\n",
            "2.subtract\n",
            "3.mul\n",
            "4.divide\n",
            "invalid input.please enter a number\n"
          ]
        }
      ],
      "source": [
        "#CALCULATOR\n",
        "def add(a,b):\n",
        "  return a+b\n",
        "def subtract(a,b):\n",
        "  return a-b\n",
        "def mul(a,b):\n",
        "  return a*b\n",
        "def divide(a,b):\n",
        "  if b==0:\n",
        "    return \"error\"\n",
        "      #try-except method\n",
        "      #try:\n",
        "        #result= a/0\n",
        "      #except ZeroDivisionError:\n",
        "       #return a/b\n",
        "  return a/b\n",
        "print(\"select operation\")\n",
        "print(\"1.add\")\n",
        "print(\"2.subtract\")\n",
        "print(\"3.mul\")\n",
        "print(\"4.divide\")\n",
        "while True:\n",
        "  choice=input(\"enter the choice(1/2/3/4):\")\n",
        "  if choice in('1','2','3','4') :\n",
        "    try:\n",
        "      num1 = float(input(\"enter the first number:\"))\n",
        "      num2= float(input(\"enter the second number:\"))\n",
        "    except ValueError:\n",
        "      print(\"invalid input.please enter a number\")\n",
        "      continue\n",
        "    if choice =='1':\n",
        "     print(f\"{num1}+{num2}={add(num1,num2)}\")\n",
        "    elif choice =='2':\n",
        "     print(f\"{num1}-{num2}={subtract(num1,num2)}\")\n",
        "    elif choice =='3':\n",
        "     print(f\"{num1}*{num2}={mul(num1,num2)}\")\n",
        "    elif choice =='4':\n",
        "     print(f\"{num1}/{num2}={divide(num1,num2)}\")\n",
        "    break\n",
        "\n"
      ]
    },
    {
      "cell_type": "markdown",
      "metadata": {
        "id": "iMmAZLIyi-jm"
      },
      "source": [
        "### #NUMPY"
      ]
    },
    {
      "cell_type": "code",
      "execution_count": null,
      "metadata": {
        "id": "Vr2QMn2jjCD6"
      },
      "outputs": [],
      "source": [
        "#numerical calculations\n",
        "import numpy as np\n",
        "arr1 = np.array([1,2,3])\n",
        "arr2 = np.array([4,5,6])\n",
        "arr1+arr2"
      ]
    },
    {
      "cell_type": "code",
      "execution_count": null,
      "metadata": {
        "id": "D2v781QEjZUL"
      },
      "outputs": [],
      "source": [
        "arr = np.array([1,2,3,4,5,6])\n",
        "arr[0]"
      ]
    },
    {
      "cell_type": "code",
      "execution_count": null,
      "metadata": {
        "id": "3sU6yN-7keCS"
      },
      "outputs": [],
      "source": []
    }
  ],
  "metadata": {
    "colab": {
      "provenance": [],
      "include_colab_link": true
    },
    "kernelspec": {
      "display_name": "Python 3",
      "name": "python3"
    },
    "language_info": {
      "name": "python"
    }
  },
  "nbformat": 4,
  "nbformat_minor": 0
}
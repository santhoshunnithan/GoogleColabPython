{
  "nbformat": 4,
  "nbformat_minor": 0,
  "metadata": {
    "colab": {
      "provenance": [],
      "include_colab_link": true
    },
    "kernelspec": {
      "name": "python3",
      "display_name": "Python 3"
    },
    "language_info": {
      "name": "python"
    }
  },
  "cells": [
    {
      "cell_type": "markdown",
      "metadata": {
        "id": "view-in-github",
        "colab_type": "text"
      },
      "source": [
        "<a href=\"https://colab.research.google.com/github/santhoshunnithan/GoogleColabPython/blob/main/1.ipynb\" target=\"_parent\"><img src=\"https://colab.research.google.com/assets/colab-badge.svg\" alt=\"Open In Colab\"/></a>"
      ]
    },
    {
      "cell_type": "code",
      "execution_count": null,
      "metadata": {
        "id": "2p763_Z7traa"
      },
      "outputs": [],
      "source": []
    },
    {
      "cell_type": "markdown",
      "source": [
        "integer-int ,float string-str"
      ],
      "metadata": {
        "id": "L52eDI4lt7eh"
      }
    },
    {
      "cell_type": "code",
      "source": [
        "virat =60\n",
        "rohit =30\n",
        "rahul =10\n",
        "virat+rohit+rahul"
      ],
      "metadata": {
        "colab": {
          "base_uri": "https://localhost:8080/"
        },
        "id": "SJCTPiNnuP7B",
        "outputId": "ca381f16-203f-4ca3-ad61-b798e1c1bafa"
      },
      "execution_count": null,
      "outputs": [
        {
          "output_type": "execute_result",
          "data": {
            "text/plain": [
              "100"
            ]
          },
          "metadata": {},
          "execution_count": 1
        }
      ]
    },
    {
      "cell_type": "code",
      "source": [
        "x,y,z = 1,2,3\n",
        "a=x+y\n",
        "a"
      ],
      "metadata": {
        "colab": {
          "base_uri": "https://localhost:8080/"
        },
        "id": "MxfCKFcdufZD",
        "outputId": "906b82c0-24f2-4841-9401-642905073061"
      },
      "execution_count": null,
      "outputs": [
        {
          "output_type": "execute_result",
          "data": {
            "text/plain": [
              "3"
            ]
          },
          "metadata": {},
          "execution_count": 5
        }
      ]
    },
    {
      "cell_type": "code",
      "source": [
        "CONTROL STRUCTURES - if else"
      ],
      "metadata": {
        "id": "sCcAFYBAvKKQ"
      },
      "execution_count": null,
      "outputs": []
    },
    {
      "cell_type": "code",
      "source": [
        "ticket_prize = 90\n",
        "wallet_size =100\n",
        "if (ticket_prize <= wallet_size):\n",
        "  print (\"i can go for this movie\")\n",
        "else:\n",
        "  print(\"i don;t have enough purse\")"
      ],
      "metadata": {
        "colab": {
          "base_uri": "https://localhost:8080/"
        },
        "id": "ND-hwhtvvOsj",
        "outputId": "e7156f72-305a-41aa-da37-fc93fdbb6e9c"
      },
      "execution_count": null,
      "outputs": [
        {
          "output_type": "stream",
          "name": "stdout",
          "text": [
            "i can go for this movie\n"
          ]
        }
      ]
    },
    {
      "cell_type": "markdown",
      "source": [
        " != = > < >= < = comparison symbols"
      ],
      "metadata": {
        "id": "aiID1xmVwW1P"
      }
    },
    {
      "cell_type": "markdown",
      "source": [],
      "metadata": {
        "id": "fhZUw2nOwl9B"
      }
    },
    {
      "cell_type": "markdown",
      "source": [
        "if (condition):\n",
        " to do\n",
        "else:\n",
        " to do"
      ],
      "metadata": {
        "id": "T6OWKJfyv3lD"
      }
    },
    {
      "cell_type": "markdown",
      "source": [
        "elif"
      ],
      "metadata": {
        "id": "YkaJoamewxhU"
      }
    },
    {
      "cell_type": "code",
      "source": [
        "marks=60\n",
        "\n",
        "if(marks>=90):\n",
        "  print (\"a+\")\n",
        "elif(marks>=80):\n",
        "    print(\"b+\")\n",
        "elif(marks>=70):\n",
        "    print(\"c+\")\n",
        "else:\n",
        "  print(\"fail\")\n",
        "\n",
        "\n"
      ],
      "metadata": {
        "colab": {
          "base_uri": "https://localhost:8080/"
        },
        "id": "mKJ1FgQ_wzNU",
        "outputId": "d4ddff16-8024-47c0-8fe3-0aa39a8982f3"
      },
      "execution_count": null,
      "outputs": [
        {
          "output_type": "stream",
          "name": "stdout",
          "text": [
            "fail\n"
          ]
        }
      ]
    },
    {
      "cell_type": "code",
      "source": [
        "FOR LOOP"
      ],
      "metadata": {
        "id": "oglNf36DyRcn"
      },
      "execution_count": null,
      "outputs": []
    },
    {
      "cell_type": "code",
      "source": [
        "range(1,100)\n",
        "range(start, end-1)\n",
        "range(10)- 0 to 10\n",
        "\n"
      ],
      "metadata": {
        "id": "efkbgd9KyVRh"
      },
      "execution_count": null,
      "outputs": []
    },
    {
      "cell_type": "code",
      "source": [
        "for i in range(1,10):\n",
        " print (i)"
      ],
      "metadata": {
        "colab": {
          "base_uri": "https://localhost:8080/"
        },
        "id": "XRAoIb-4y7iw",
        "outputId": "cec5880b-038d-43b5-cc6e-941ce0471abc"
      },
      "execution_count": null,
      "outputs": [
        {
          "output_type": "stream",
          "name": "stdout",
          "text": [
            "1\n",
            "2\n",
            "3\n",
            "4\n",
            "5\n",
            "6\n",
            "7\n",
            "8\n",
            "9\n"
          ]
        }
      ]
    },
    {
      "cell_type": "code",
      "source": [
        "  num=60\n",
        "  if (num%10==0):\n",
        "    print(\"num\")\n",
        "  else:\n",
        "    print(\"not divisible by 10\")"
      ],
      "metadata": {
        "colab": {
          "base_uri": "https://localhost:8080/"
        },
        "id": "eQsAjArL0Dk9",
        "outputId": "47c56d2d-9b67-41d0-af27-fc24f322d657"
      },
      "execution_count": null,
      "outputs": [
        {
          "output_type": "stream",
          "name": "stdout",
          "text": [
            "num\n"
          ]
        }
      ]
    },
    {
      "cell_type": "code",
      "source": [
        "num = int(input(\"enter a number here\"))\n",
        "fact=1\n",
        "if num<0:\n",
        "  print(\"factorial does not exist\")\n",
        "if num==0:\n",
        "  print(\"factorial is 1\")\n",
        "else:\n",
        "  for i in range(1,num+1):\n",
        "    fact=fact*i\n",
        "  print(fact)"
      ],
      "metadata": {
        "colab": {
          "base_uri": "https://localhost:8080/"
        },
        "id": "N0yEp4Vg16w-",
        "outputId": "a143b410-14ad-42c5-ca06-e3a758bc2bab"
      },
      "execution_count": null,
      "outputs": [
        {
          "output_type": "stream",
          "name": "stdout",
          "text": [
            "enter a number here5\n",
            "120\n"
          ]
        }
      ]
    },
    {
      "cell_type": "markdown",
      "source": [
        "DAY2"
      ],
      "metadata": {
        "id": "GKmksAAl9HHP"
      }
    },
    {
      "cell_type": "markdown",
      "source": [
        "### LIST"
      ],
      "metadata": {
        "id": "DIOebCpQ9NU8"
      }
    },
    {
      "cell_type": "code",
      "source": [
        "items = [\"speaker\",\"mic\", \"mobile\", \"laptop\"]\n",
        "items[0]\n"
      ],
      "metadata": {
        "colab": {
          "base_uri": "https://localhost:8080/",
          "height": 158
        },
        "id": "TjP6OlJs9Ski",
        "outputId": "cffa91c3-a34b-468e-848b-3c326a99b004"
      },
      "execution_count": null,
      "outputs": [
        {
          "output_type": "error",
          "ename": "TypeError",
          "evalue": "list indices must be integers or slices, not tuple",
          "traceback": [
            "\u001b[0;31m---------------------------------------------------------------------------\u001b[0m",
            "\u001b[0;31mTypeError\u001b[0m                                 Traceback (most recent call last)",
            "\u001b[0;32m/tmp/ipython-input-1888548397.py\u001b[0m in \u001b[0;36m<cell line: 0>\u001b[0;34m()\u001b[0m\n\u001b[1;32m      1\u001b[0m \u001b[0mitems\u001b[0m \u001b[0;34m=\u001b[0m \u001b[0;34m[\u001b[0m\u001b[0;34m\"speaker\"\u001b[0m\u001b[0;34m,\u001b[0m\u001b[0;34m\"mic\"\u001b[0m\u001b[0;34m,\u001b[0m \u001b[0;34m\"mobile\"\u001b[0m\u001b[0;34m,\u001b[0m \u001b[0;34m\"laptop\"\u001b[0m\u001b[0;34m]\u001b[0m\u001b[0;34m\u001b[0m\u001b[0;34m\u001b[0m\u001b[0m\n\u001b[0;32m----> 2\u001b[0;31m \u001b[0mitems\u001b[0m\u001b[0;34m[\u001b[0m\u001b[0;36m0\u001b[0m\u001b[0;34m,\u001b[0m\u001b[0;36m1\u001b[0m\u001b[0;34m]\u001b[0m\u001b[0;34m\u001b[0m\u001b[0;34m\u001b[0m\u001b[0m\n\u001b[0m",
            "\u001b[0;31mTypeError\u001b[0m: list indices must be integers or slices, not tuple"
          ]
        }
      ]
    },
    {
      "cell_type": "code",
      "source": [
        "#last item access\n",
        "items[-2]\n"
      ],
      "metadata": {
        "colab": {
          "base_uri": "https://localhost:8080/",
          "height": 36
        },
        "id": "wZ6SBGIU9wY1",
        "outputId": "911a8918-0ff8-4d36-d4e7-c336e7ad16d0"
      },
      "execution_count": null,
      "outputs": [
        {
          "output_type": "execute_result",
          "data": {
            "text/plain": [
              "'mobile'"
            ],
            "application/vnd.google.colaboratory.intrinsic+json": {
              "type": "string"
            }
          },
          "metadata": {},
          "execution_count": 4
        }
      ]
    },
    {
      "cell_type": "code",
      "source": [
        "#first 2 items\n",
        "items[0:2]"
      ],
      "metadata": {
        "colab": {
          "base_uri": "https://localhost:8080/"
        },
        "id": "uzSNBT89-pzj",
        "outputId": "811515c6-4776-4bd8-8c2b-655f14afbcf2"
      },
      "execution_count": null,
      "outputs": [
        {
          "output_type": "execute_result",
          "data": {
            "text/plain": [
              "['speaker', 'mic']"
            ]
          },
          "metadata": {},
          "execution_count": 7
        }
      ]
    },
    {
      "cell_type": "code",
      "source": [
        "#last 2 items\n",
        "items[-2:]"
      ],
      "metadata": {
        "colab": {
          "base_uri": "https://localhost:8080/"
        },
        "id": "WcbLjB39-4_2",
        "outputId": "94536f28-0d2a-4740-d91d-36a76c0158c4"
      },
      "execution_count": null,
      "outputs": [
        {
          "output_type": "execute_result",
          "data": {
            "text/plain": [
              "['mobile', 'laptop']"
            ]
          },
          "metadata": {},
          "execution_count": 9
        }
      ]
    },
    {
      "cell_type": "code",
      "source": [
        "#to modify the element\n",
        "items[0]=\"headphone\"\n",
        "items"
      ],
      "metadata": {
        "colab": {
          "base_uri": "https://localhost:8080/"
        },
        "id": "mXCFaKk2_J6s",
        "outputId": "430f2613-0385-4dcf-c68d-a8ab30b88f98"
      },
      "execution_count": null,
      "outputs": [
        {
          "output_type": "execute_result",
          "data": {
            "text/plain": [
              "['headphone', 'mic', 'mobile', 'laptop']"
            ]
          },
          "metadata": {},
          "execution_count": 10
        }
      ]
    },
    {
      "cell_type": "code",
      "source": [
        "#adding elements to a list\n",
        "items.append(\"charger\")\n",
        "items"
      ],
      "metadata": {
        "colab": {
          "base_uri": "https://localhost:8080/"
        },
        "id": "JrzxMN5L_Zxb",
        "outputId": "92f6fc41-93ca-48ea-9c45-4ca9a6b1b2f4"
      },
      "execution_count": null,
      "outputs": [
        {
          "output_type": "execute_result",
          "data": {
            "text/plain": [
              "['headphone', 'mic', 'mobile', 'laptop', 'charger']"
            ]
          },
          "metadata": {},
          "execution_count": 13
        }
      ]
    },
    {
      "cell_type": "code",
      "source": [
        "#to remove elements\n",
        "items.remove(\"mic\")\n",
        "items"
      ],
      "metadata": {
        "colab": {
          "base_uri": "https://localhost:8080/"
        },
        "id": "jvhhwbzt_aAZ",
        "outputId": "c167d533-149a-4901-8786-b93f611def83"
      },
      "execution_count": null,
      "outputs": [
        {
          "output_type": "execute_result",
          "data": {
            "text/plain": [
              "['headphone', 'mobile', 'laptop', 'charger']"
            ]
          },
          "metadata": {},
          "execution_count": 14
        }
      ]
    },
    {
      "cell_type": "code",
      "source": [
        "#last item delete\n",
        "del items[-1]\n",
        "items\n"
      ],
      "metadata": {
        "colab": {
          "base_uri": "https://localhost:8080/",
          "height": 176
        },
        "id": "3uePXH5s_3Qb",
        "outputId": "7f8794d8-c25b-40fa-f826-893dc3905e4a"
      },
      "execution_count": null,
      "outputs": [
        {
          "output_type": "error",
          "ename": "IndexError",
          "evalue": "list assignment index out of range",
          "traceback": [
            "\u001b[0;31m---------------------------------------------------------------------------\u001b[0m",
            "\u001b[0;31mIndexError\u001b[0m                                Traceback (most recent call last)",
            "\u001b[0;32m/tmp/ipython-input-1259707045.py\u001b[0m in \u001b[0;36m<cell line: 0>\u001b[0;34m()\u001b[0m\n\u001b[1;32m      1\u001b[0m \u001b[0;31m#last item delete\u001b[0m\u001b[0;34m\u001b[0m\u001b[0;34m\u001b[0m\u001b[0m\n\u001b[0;32m----> 2\u001b[0;31m \u001b[0;32mdel\u001b[0m \u001b[0mitems\u001b[0m\u001b[0;34m[\u001b[0m\u001b[0;34m-\u001b[0m\u001b[0;36m1\u001b[0m\u001b[0;34m]\u001b[0m\u001b[0;34m\u001b[0m\u001b[0;34m\u001b[0m\u001b[0m\n\u001b[0m\u001b[1;32m      3\u001b[0m \u001b[0mitems\u001b[0m\u001b[0;34m\u001b[0m\u001b[0;34m\u001b[0m\u001b[0m\n",
            "\u001b[0;31mIndexError\u001b[0m: list assignment index out of range"
          ]
        }
      ]
    },
    {
      "cell_type": "code",
      "source": [
        "#to clear the list\n",
        "items.clear()\n",
        "items"
      ],
      "metadata": {
        "colab": {
          "base_uri": "https://localhost:8080/"
        },
        "id": "gKvTVNgZAZn6",
        "outputId": "38c0033e-06eb-46b6-d21d-aa831600d419"
      },
      "execution_count": null,
      "outputs": [
        {
          "output_type": "execute_result",
          "data": {
            "text/plain": [
              "[]"
            ]
          },
          "metadata": {},
          "execution_count": 22
        }
      ]
    },
    {
      "cell_type": "code",
      "source": [
        "#checking the existence\n",
        "items =[\"speaker\",\"mic\", \"mobile\", \"laptop\"]\n",
        "if \"earbuds\" in items:\n",
        "  print(\"yes\")\n",
        "else:\n",
        "  print(\"no\")"
      ],
      "metadata": {
        "colab": {
          "base_uri": "https://localhost:8080/"
        },
        "id": "gRacOf-rAji0",
        "outputId": "e9119db2-0531-4a67-dc74-e3197ead164b"
      },
      "execution_count": null,
      "outputs": [
        {
          "output_type": "stream",
          "name": "stdout",
          "text": [
            "no\n"
          ]
        }
      ]
    },
    {
      "cell_type": "code",
      "source": [
        "#lenghth of a list\n",
        "len(items)"
      ],
      "metadata": {
        "colab": {
          "base_uri": "https://localhost:8080/"
        },
        "id": "kBKgKRd7A6qn",
        "outputId": "2ee5ac0f-7ed9-45eb-c6f0-3912ea1fd7c2"
      },
      "execution_count": null,
      "outputs": [
        {
          "output_type": "execute_result",
          "data": {
            "text/plain": [
              "4"
            ]
          },
          "metadata": {},
          "execution_count": 25
        }
      ]
    },
    {
      "cell_type": "code",
      "source": [
        "#list comprehension [writing a loop inside a list]\n",
        "\n",
        "scores = [70,80,90,95]\n",
        "for i in scores:\n",
        "  print(i/2)"
      ],
      "metadata": {
        "colab": {
          "base_uri": "https://localhost:8080/"
        },
        "id": "_inujGwyA64l",
        "outputId": "5978f0d8-64a5-450e-b4eb-9df93019c6a9"
      },
      "execution_count": null,
      "outputs": [
        {
          "output_type": "stream",
          "name": "stdout",
          "text": [
            "35.0\n",
            "40.0\n",
            "45.0\n",
            "47.5\n"
          ]
        }
      ]
    },
    {
      "cell_type": "code",
      "source": [
        "#with list comprehension\n",
        "[i/2 for i in scores]"
      ],
      "metadata": {
        "colab": {
          "base_uri": "https://localhost:8080/"
        },
        "id": "Na74--A8Berd",
        "outputId": "b0975ba9-493b-4dd1-ed88-d6eb562e1c0a"
      },
      "execution_count": null,
      "outputs": [
        {
          "output_type": "execute_result",
          "data": {
            "text/plain": [
              "[35.0, 40.0, 45.0, 47.5]"
            ]
          },
          "metadata": {},
          "execution_count": 28
        }
      ]
    },
    {
      "cell_type": "markdown",
      "source": [
        "## WHILE LOOP"
      ],
      "metadata": {
        "id": "pp6S_Zc3BwK1"
      }
    },
    {
      "cell_type": "code",
      "source": [
        "while (condition):\n",
        "  #to do\n"
      ],
      "metadata": {
        "id": "Ae5PxLXcB0mp"
      },
      "execution_count": null,
      "outputs": []
    },
    {
      "cell_type": "code",
      "source": [
        "#to print the numbers 1,2,3 on the screen\n",
        "n=1\n",
        "while n<=3:\n",
        "  print(n)\n",
        "  n+=1"
      ],
      "metadata": {
        "colab": {
          "base_uri": "https://localhost:8080/"
        },
        "id": "58XP3nJaCDQe",
        "outputId": "96930c7e-6ddd-4601-d055-dff6878131ff"
      },
      "execution_count": null,
      "outputs": [
        {
          "output_type": "stream",
          "name": "stdout",
          "text": [
            "1\n",
            "2\n",
            "3\n"
          ]
        }
      ]
    },
    {
      "cell_type": "code",
      "source": [
        "#sum of first n natural numbers\n",
        "n= int(input(\"enter a number\"))\n",
        "sum=0\n",
        "while n>0:\n",
        "  sum=sum+n\n",
        "  n=n-1\n",
        "print(sum)"
      ],
      "metadata": {
        "colab": {
          "base_uri": "https://localhost:8080/"
        },
        "id": "mOSSx9apCfJK",
        "outputId": "a401593a-b80d-425e-a786-a29857539d23"
      },
      "execution_count": null,
      "outputs": [
        {
          "output_type": "stream",
          "name": "stdout",
          "text": [
            "enter a number5\n",
            "15\n"
          ]
        }
      ]
    },
    {
      "cell_type": "code",
      "source": [
        "#breaking the infinite while loop\n",
        "while True:\n",
        "  line = input(\"enter the line(type q to quit):\")\n",
        "  if line =='q':\n",
        "    break"
      ],
      "metadata": {
        "colab": {
          "base_uri": "https://localhost:8080/"
        },
        "id": "L_l8vV3ID5FJ",
        "outputId": "190d40d4-3079-4096-92b0-0b74c4b05899"
      },
      "execution_count": null,
      "outputs": [
        {
          "name": "stdout",
          "output_type": "stream",
          "text": [
            "enter the line(type q to quit):hello\n",
            "enter the line(type q to quit):edeef\n",
            "enter the line(type q to quit):sqdqed\n",
            "enter the line(type q to quit):q\n"
          ]
        }
      ]
    },
    {
      "cell_type": "code",
      "source": [
        "for i in range(5):\n",
        " print(i)\n",
        " if i ==3:\n",
        "  break\n",
        "print (\"it is broken\")"
      ],
      "metadata": {
        "colab": {
          "base_uri": "https://localhost:8080/"
        },
        "id": "eaIxuZj5EsKM",
        "outputId": "365b6d94-ee76-4b33-b13e-82733ab8a296"
      },
      "execution_count": null,
      "outputs": [
        {
          "output_type": "stream",
          "name": "stdout",
          "text": [
            "0\n",
            "1\n",
            "2\n",
            "3\n",
            "it is broken\n"
          ]
        }
      ]
    },
    {
      "cell_type": "code",
      "source": [
        "#while loop with else\n",
        "#check whether the fruit orange is present in the list\n",
        "fruits = [\"apple\", \"banana\",\"mango\",\"orange\"]\n",
        "fruits_len = len(fruits)\n",
        "index=0\n",
        "while index < fruits_len:\n",
        "  if fruits[index] == \"orange\":\n",
        "    print (\"orange is available\")\n",
        "    break\n",
        "  index+=1\n",
        "else:\n",
        "  print(\"orange is not available\")\n"
      ],
      "metadata": {
        "colab": {
          "base_uri": "https://localhost:8080/"
        },
        "id": "4CoJtduMFb_B",
        "outputId": "3fcf816b-d021-4a92-bcdd-eac8d975cfb1"
      },
      "execution_count": null,
      "outputs": [
        {
          "output_type": "stream",
          "name": "stdout",
          "text": [
            "orange is available\n"
          ]
        }
      ]
    },
    {
      "cell_type": "code",
      "source": [
        "#continue\n",
        "#we want to print 0,1,3\n",
        "for i in range (5):\n",
        "  if i==2 or i==4:\n",
        "    continue\n",
        "  print(i)"
      ],
      "metadata": {
        "colab": {
          "base_uri": "https://localhost:8080/"
        },
        "id": "s4WqdCLpHm47",
        "outputId": "286b65fa-ec9f-4705-f481-97c308698029"
      },
      "execution_count": null,
      "outputs": [
        {
          "output_type": "stream",
          "name": "stdout",
          "text": [
            "0\n",
            "1\n",
            "3\n"
          ]
        }
      ]
    },
    {
      "cell_type": "code",
      "source": [
        "#print numbers 2,4,6,8,10\n",
        "n=0\n",
        "while n<=10:\n",
        "  n+=1\n",
        "  if n%2 !=0:\n",
        "   continue\n",
        "  print (n)"
      ],
      "metadata": {
        "colab": {
          "base_uri": "https://localhost:8080/"
        },
        "id": "MG2OAWT1IQuH",
        "outputId": "744031c0-6651-4d28-c2cb-fd48481dcc1d"
      },
      "execution_count": null,
      "outputs": [
        {
          "output_type": "stream",
          "name": "stdout",
          "text": [
            "2\n",
            "4\n",
            "6\n",
            "8\n",
            "10\n"
          ]
        }
      ]
    },
    {
      "cell_type": "code",
      "source": [
        "#nested while loop\n",
        "list1 = [1,2,3]\n",
        "list2 = [4,5,6]\n",
        "i=0\n",
        "j=0\n",
        "while i < len (list1):\n",
        "  j=0\n",
        "  while j < len(list2):\n",
        "    print(list1[i],list2[j])\n",
        "    j+=1\n",
        "  print()\n",
        "  i+=1\n",
        "\n",
        "\n"
      ],
      "metadata": {
        "colab": {
          "base_uri": "https://localhost:8080/"
        },
        "id": "V76xFdOtJ6ht",
        "outputId": "ba8ea8cd-7f35-45f5-811a-212e24b8664b"
      },
      "execution_count": null,
      "outputs": [
        {
          "output_type": "stream",
          "name": "stdout",
          "text": [
            "1 4\n",
            "1 5\n",
            "1 6\n",
            "\n",
            "2 4\n",
            "2 5\n",
            "2 6\n",
            "\n",
            "3 4\n",
            "3 5\n",
            "3 6\n",
            "\n"
          ]
        }
      ]
    },
    {
      "cell_type": "markdown",
      "source": [
        "PASS STATEMENT"
      ],
      "metadata": {
        "id": "w-Di1MZTLzId"
      }
    },
    {
      "cell_type": "code",
      "source": [
        "age =int(input(\"enter your age\"))\n",
        "if age >18 and age<28:\n",
        "   print(\"you are welcome\")\n",
        "else:\n",
        "  pass"
      ],
      "metadata": {
        "id": "nLwAdkYJL3h1"
      },
      "execution_count": null,
      "outputs": []
    }
  ]
}
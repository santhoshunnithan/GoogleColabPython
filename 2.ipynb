{
  "nbformat": 4,
  "nbformat_minor": 0,
  "metadata": {
    "colab": {
      "provenance": [],
      "include_colab_link": true
    },
    "kernelspec": {
      "name": "python3",
      "display_name": "Python 3"
    },
    "language_info": {
      "name": "python"
    }
  },
  "cells": [
    {
      "cell_type": "markdown",
      "metadata": {
        "id": "view-in-github",
        "colab_type": "text"
      },
      "source": [
        "<a href=\"https://colab.research.google.com/github/santhoshunnithan/PythonColab/blob/main/2.ipynb\" target=\"_parent\"><img src=\"https://colab.research.google.com/assets/colab-badge.svg\" alt=\"Open In Colab\"/></a>"
      ]
    },
    {
      "cell_type": "code",
      "execution_count": null,
      "metadata": {
        "colab": {
          "base_uri": "https://localhost:8080/"
        },
        "id": "dL6M1tTWF0uq",
        "outputId": "ecbc8078-97dc-4629-b8a8-e9efc1b4843e"
      },
      "outputs": [
        {
          "output_type": "stream",
          "name": "stdout",
          "text": [
            "hello world\n"
          ]
        }
      ],
      "source": [
        "#FUNCTIONS\n",
        "#1) defining a function\n",
        "def hello():\n",
        "  print (\"hello world\")\n",
        "\n",
        "hello()"
      ]
    },
    {
      "cell_type": "code",
      "source": [
        "#2) function with parameters\n",
        "def hello (name):\n",
        "  print(f\" hello {name}\")\n",
        "hello (\"salini\")"
      ],
      "metadata": {
        "colab": {
          "base_uri": "https://localhost:8080/"
        },
        "id": "Em28k9N3Jgk6",
        "outputId": "95739ecd-d728-4066-9468-05322ee7809c"
      },
      "execution_count": null,
      "outputs": [
        {
          "output_type": "stream",
          "name": "stdout",
          "text": [
            " hello salini\n"
          ]
        }
      ]
    },
    {
      "cell_type": "code",
      "source": [
        "country = \"India\"\n",
        "capital = \"delhi\"\n",
        "print (f\"{capital} is the capital city of {country}\")"
      ],
      "metadata": {
        "colab": {
          "base_uri": "https://localhost:8080/"
        },
        "id": "VXsh0hHDKA45",
        "outputId": "34848e64-1a7d-4f84-c320-c5b18ded717f"
      },
      "execution_count": null,
      "outputs": [
        {
          "output_type": "stream",
          "name": "stdout",
          "text": [
            "delhi is the capital city of India\n"
          ]
        }
      ]
    },
    {
      "cell_type": "code",
      "source": [
        "#to return the value\n",
        "def add_numbers (x,y):\n",
        "  return (x+y)\n",
        "v=add_numbers (10,5)\n",
        "print (v)"
      ],
      "metadata": {
        "colab": {
          "base_uri": "https://localhost:8080/"
        },
        "id": "pS1Np70PKa5f",
        "outputId": "8b93456c-28d3-43b4-828b-36c2c7f2d338"
      },
      "execution_count": null,
      "outputs": [
        {
          "output_type": "stream",
          "name": "stdout",
          "text": [
            "15\n"
          ]
        }
      ]
    },
    {
      "cell_type": "code",
      "source": [
        "#default parameters\n",
        "def hello (name = \"guest\"):\n",
        "  print(f\" hello {name}\")\n",
        "hello()"
      ],
      "metadata": {
        "colab": {
          "base_uri": "https://localhost:8080/"
        },
        "id": "nryivweSK5R-",
        "outputId": "fe9f88c6-cf8d-4c3b-d064-6939583a03d1"
      },
      "execution_count": null,
      "outputs": [
        {
          "output_type": "stream",
          "name": "stdout",
          "text": [
            " hello guest\n"
          ]
        }
      ]
    },
    {
      "cell_type": "code",
      "source": [
        "def add_numbers (x=10,y=20):\n",
        "  print (x+y)\n",
        "add_numbers (y=3)"
      ],
      "metadata": {
        "colab": {
          "base_uri": "https://localhost:8080/"
        },
        "id": "-Wd2tRLOL-cA",
        "outputId": "a38b612e-4f9f-4d89-a8ae-3b45088d433d"
      },
      "execution_count": null,
      "outputs": [
        {
          "output_type": "stream",
          "name": "stdout",
          "text": [
            "13\n"
          ]
        }
      ]
    },
    {
      "cell_type": "code",
      "source": [
        "#scope & global variable\n",
        "x=100\n",
        "def test():\n",
        "  print(x)\n",
        "test()"
      ],
      "metadata": {
        "colab": {
          "base_uri": "https://localhost:8080/"
        },
        "id": "RDbLPMcPMtc-",
        "outputId": "9b10dcea-4c94-4c4a-d8ac-c7382ee7ca7e"
      },
      "execution_count": null,
      "outputs": [
        {
          "output_type": "stream",
          "name": "stdout",
          "text": [
            "100\n"
          ]
        }
      ]
    },
    {
      "cell_type": "code",
      "source": [
        "n=23\n",
        "def test(n):\n",
        "  n=21\n",
        "  print(n)\n",
        "test(18)"
      ],
      "metadata": {
        "colab": {
          "base_uri": "https://localhost:8080/"
        },
        "id": "mdzPxsZ8Ne88",
        "outputId": "58543bb3-43b3-49a8-be16-868a9134ff54"
      },
      "execution_count": null,
      "outputs": [
        {
          "output_type": "stream",
          "name": "stdout",
          "text": [
            "21\n"
          ]
        }
      ]
    },
    {
      "cell_type": "code",
      "source": [
        "#nested function\n",
        "def hello(name):\n",
        "  print (f\" Hello{name}\")\n",
        "def fav_city(city_name, name):\n",
        "  hello (name)\n",
        "  print (f\"welcome to {city_name}\")\n",
        "fav_city (\"delhi\", \"salini\")"
      ],
      "metadata": {
        "colab": {
          "base_uri": "https://localhost:8080/"
        },
        "id": "IVGYiBj8N0X3",
        "outputId": "8955f469-5da5-4005-d2cf-ed9b50ed7a8c"
      },
      "execution_count": null,
      "outputs": [
        {
          "output_type": "stream",
          "name": "stdout",
          "text": [
            " Hellosalini\n",
            "welcome to delhi\n"
          ]
        }
      ]
    },
    {
      "cell_type": "markdown",
      "source": [
        "### STRINGS"
      ],
      "metadata": {
        "id": "kJgK3B30O5td"
      }
    },
    {
      "cell_type": "code",
      "source": [
        "single_quote_string = 'hello'\n",
        "single_quote_string [0]"
      ],
      "metadata": {
        "colab": {
          "base_uri": "https://localhost:8080/",
          "height": 35
        },
        "id": "WCkMc_3KO9v7",
        "outputId": "4311aa05-2e0a-4bca-93dd-38b28785f8c9"
      },
      "execution_count": null,
      "outputs": [
        {
          "output_type": "execute_result",
          "data": {
            "text/plain": [
              "'h'"
            ],
            "application/vnd.google.colaboratory.intrinsic+json": {
              "type": "string"
            }
          },
          "metadata": {},
          "execution_count": 25
        }
      ]
    },
    {
      "cell_type": "code",
      "source": [
        "#slicing a string\n",
        "single_quote_string [0:3]"
      ],
      "metadata": {
        "colab": {
          "base_uri": "https://localhost:8080/",
          "height": 35
        },
        "id": "RBBPF-JcPXQf",
        "outputId": "93966a0b-4622-42d8-f7b7-af2eeb5a7be8"
      },
      "execution_count": null,
      "outputs": [
        {
          "output_type": "execute_result",
          "data": {
            "text/plain": [
              "'hel'"
            ],
            "application/vnd.google.colaboratory.intrinsic+json": {
              "type": "string"
            }
          },
          "metadata": {},
          "execution_count": 26
        }
      ]
    },
    {
      "cell_type": "code",
      "source": [
        "#negative indexing\n",
        "single_quote_string [-3:]"
      ],
      "metadata": {
        "colab": {
          "base_uri": "https://localhost:8080/",
          "height": 35
        },
        "id": "oa0aV3ouPkl-",
        "outputId": "09b3945b-e9d7-47d9-aaae-6b79a6959680"
      },
      "execution_count": null,
      "outputs": [
        {
          "output_type": "execute_result",
          "data": {
            "text/plain": [
              "'llo'"
            ],
            "application/vnd.google.colaboratory.intrinsic+json": {
              "type": "string"
            }
          },
          "metadata": {},
          "execution_count": 30
        }
      ]
    },
    {
      "cell_type": "code",
      "source": [
        "#string concatenation\n",
        "\"hello\" + \" \" + \"world\""
      ],
      "metadata": {
        "colab": {
          "base_uri": "https://localhost:8080/",
          "height": 35
        },
        "id": "NzN0HVOsP8Zm",
        "outputId": "138fcd99-ddf5-48e8-b62f-c38e14ee2a43"
      },
      "execution_count": null,
      "outputs": [
        {
          "output_type": "execute_result",
          "data": {
            "text/plain": [
              "'hello world'"
            ],
            "application/vnd.google.colaboratory.intrinsic+json": {
              "type": "string"
            }
          },
          "metadata": {},
          "execution_count": 32
        }
      ]
    },
    {
      "cell_type": "code",
      "source": [
        "#string length\n",
        "x= \"hello\"\n",
        "len(x)"
      ],
      "metadata": {
        "colab": {
          "base_uri": "https://localhost:8080/"
        },
        "id": "EPbft5wMQYTt",
        "outputId": "423efb74-58a9-4375-cf08-41298d828132"
      },
      "execution_count": null,
      "outputs": [
        {
          "output_type": "execute_result",
          "data": {
            "text/plain": [
              "5"
            ]
          },
          "metadata": {},
          "execution_count": 34
        }
      ]
    },
    {
      "cell_type": "code",
      "source": [
        "#checking substrings\n",
        "x= \"hello world\"\n",
        "print(\"hello\" in x)"
      ],
      "metadata": {
        "colab": {
          "base_uri": "https://localhost:8080/"
        },
        "id": "CF6sbvPHQqIT",
        "outputId": "c751b015-ce29-4676-a838-bc9178d19eb6"
      },
      "execution_count": null,
      "outputs": [
        {
          "output_type": "stream",
          "name": "stdout",
          "text": [
            "True\n"
          ]
        }
      ]
    },
    {
      "cell_type": "code",
      "source": [
        "#string methods\n",
        "name = \"DAVID\"\n",
        "name.lower()"
      ],
      "metadata": {
        "colab": {
          "base_uri": "https://localhost:8080/",
          "height": 35
        },
        "id": "jUY3FRi1Q7IR",
        "outputId": "1310fb0a-cd8c-450e-ef0b-a32d9935e9c4"
      },
      "execution_count": null,
      "outputs": [
        {
          "output_type": "execute_result",
          "data": {
            "text/plain": [
              "'david'"
            ],
            "application/vnd.google.colaboratory.intrinsic+json": {
              "type": "string"
            }
          },
          "metadata": {},
          "execution_count": 38
        }
      ]
    },
    {
      "cell_type": "code",
      "source": [
        "name = \"david\"\n",
        "name.upper()"
      ],
      "metadata": {
        "colab": {
          "base_uri": "https://localhost:8080/",
          "height": 35
        },
        "id": "SzRDCm08RPnH",
        "outputId": "76093131-596c-4c43-ed0f-bd9f169a350b"
      },
      "execution_count": null,
      "outputs": [
        {
          "output_type": "execute_result",
          "data": {
            "text/plain": [
              "'DAVID'"
            ],
            "application/vnd.google.colaboratory.intrinsic+json": {
              "type": "string"
            }
          },
          "metadata": {},
          "execution_count": 39
        }
      ]
    },
    {
      "cell_type": "code",
      "source": [
        "name = \"xyz\"\n",
        "age = 12\n",
        "print(\"hello my name is\", name, \"and my age is\", age )"
      ],
      "metadata": {
        "colab": {
          "base_uri": "https://localhost:8080/"
        },
        "id": "yLYBQm4qRiCe",
        "outputId": "7884c15a-f36c-4004-f29f-51731ccc49a9"
      },
      "execution_count": null,
      "outputs": [
        {
          "output_type": "stream",
          "name": "stdout",
          "text": [
            "hello my name is xyz and my age is 12\n"
          ]
        }
      ]
    },
    {
      "cell_type": "code",
      "source": [
        "print (f\" hello my name is {name} and my age is {age}\")"
      ],
      "metadata": {
        "colab": {
          "base_uri": "https://localhost:8080/"
        },
        "id": "uEiDwrNPR5oH",
        "outputId": "fb56fcac-2975-4314-efe1-3017aca85f3c"
      },
      "execution_count": null,
      "outputs": [
        {
          "output_type": "stream",
          "name": "stdout",
          "text": [
            " hello my name is xyz and my age is 12\n"
          ]
        }
      ]
    },
    {
      "cell_type": "markdown",
      "source": [
        "TRY EXCEPT"
      ],
      "metadata": {
        "id": "nMBKeGytSM70"
      }
    },
    {
      "cell_type": "code",
      "source": [
        "try:\n",
        "  result =10/0\n",
        "except ZeroDivisionError:\n",
        "  print(\"cannot divide by zero\")"
      ],
      "metadata": {
        "colab": {
          "base_uri": "https://localhost:8080/"
        },
        "id": "0ye5VjhJSZRX",
        "outputId": "038be444-7ecb-4675-96d5-3aba9d6228ea"
      },
      "execution_count": null,
      "outputs": [
        {
          "output_type": "stream",
          "name": "stdout",
          "text": [
            "cannot divide by zero\n"
          ]
        }
      ]
    },
    {
      "cell_type": "code",
      "source": [
        "try:\n",
        "  x=int (\"hello\")\n",
        "except ValueError:\n",
        " print (\"invalid value\")\n",
        "y=2+3\n",
        "print(y)"
      ],
      "metadata": {
        "colab": {
          "base_uri": "https://localhost:8080/"
        },
        "id": "3PIc6T2eS086",
        "outputId": "cd362790-cd9f-4542-f496-6aaa609ea760"
      },
      "execution_count": null,
      "outputs": [
        {
          "output_type": "stream",
          "name": "stdout",
          "text": [
            "invalid value\n",
            "5\n"
          ]
        }
      ]
    },
    {
      "cell_type": "code",
      "source": [],
      "metadata": {
        "id": "AW5jJptyTSnd"
      },
      "execution_count": null,
      "outputs": []
    },
    {
      "cell_type": "markdown",
      "source": [
        "## FILE HANDLING IN PYTHON"
      ],
      "metadata": {
        "id": "gS0KdJ1bTe3f"
      }
    },
    {
      "cell_type": "code",
      "source": [
        "#creating a new file\n",
        "#variable = open (\"file_name\",\"x\")\n",
        "f=open (\"demofile.txt\",\"x\")"
      ],
      "metadata": {
        "id": "6b4SpvwKTlW3"
      },
      "execution_count": null,
      "outputs": []
    },
    {
      "cell_type": "code",
      "source": [
        "#accessing a file\n",
        "#open ('file_name','mode')\n"
      ],
      "metadata": {
        "id": "mwIoIJqRT8Jx"
      },
      "execution_count": null,
      "outputs": []
    },
    {
      "cell_type": "code",
      "source": [
        "#To write a file\n",
        "with open (\"demofile.txt\",\"w\") as f:\n",
        "  f.write (\"hello world\")"
      ],
      "metadata": {
        "id": "yWvU9fufUWM0"
      },
      "execution_count": null,
      "outputs": []
    },
    {
      "cell_type": "code",
      "source": [
        "# to read a file\n",
        "with open (\"demofile.txt\",\"r\") as f:\n",
        "  print (f.read())"
      ],
      "metadata": {
        "colab": {
          "base_uri": "https://localhost:8080/"
        },
        "id": "Dfia1kBcUwIJ",
        "outputId": "ba38cfea-c1f7-4870-c207-d563d9144999"
      },
      "execution_count": null,
      "outputs": [
        {
          "output_type": "stream",
          "name": "stdout",
          "text": [
            "hello world\n"
          ]
        }
      ]
    },
    {
      "cell_type": "code",
      "source": [
        "# to append a file\n",
        "with open (\"demofile.txt\",\"a\") as f:\n",
        "  f.write (\"second line\\n\")"
      ],
      "metadata": {
        "id": "6w67E6RoVQoG"
      },
      "execution_count": null,
      "outputs": []
    },
    {
      "cell_type": "code",
      "source": [],
      "metadata": {
        "id": "K_2FeAicVfrz"
      },
      "execution_count": null,
      "outputs": []
    },
    {
      "cell_type": "code",
      "source": [
        "# to read a file\n",
        "with open (\"demofile.txt\",\"r\") as f:\n",
        "  print (f.read())"
      ],
      "metadata": {
        "colab": {
          "base_uri": "https://localhost:8080/"
        },
        "outputId": "6e52b2cd-ec65-43b8-9ac4-1fdd15c6b7e1",
        "id": "K3VaxooPVo4n"
      },
      "execution_count": null,
      "outputs": [
        {
          "output_type": "stream",
          "name": "stdout",
          "text": [
            "hello worldsecond linesecond linesecond line\n"
          ]
        }
      ]
    },
    {
      "cell_type": "code",
      "source": [],
      "metadata": {
        "id": "zpSdolSTVqxm"
      },
      "execution_count": null,
      "outputs": []
    },
    {
      "cell_type": "code",
      "source": [
        "#To write a file\n",
        "with open (\"demofile.txt\",\"w\") as f:\n",
        "  f.write (\"hello\")\n",
        "with open (\"demofile.txt\",\"r\") as f:\n",
        "  print(f.read())\n",
        "\n",
        "\n"
      ],
      "metadata": {
        "colab": {
          "base_uri": "https://localhost:8080/"
        },
        "id": "pqu4qxEKV15T",
        "outputId": "76d69f1f-0d8f-483e-db82-3768005a6655"
      },
      "execution_count": null,
      "outputs": [
        {
          "output_type": "stream",
          "name": "stdout",
          "text": [
            "hello\n"
          ]
        }
      ]
    },
    {
      "cell_type": "code",
      "source": [],
      "metadata": {
        "id": "VGAx6xQmWH_k"
      },
      "execution_count": null,
      "outputs": []
    }
  ]
}